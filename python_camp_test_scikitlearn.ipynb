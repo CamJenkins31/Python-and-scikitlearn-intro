{
 "cells": [
  {
   "cell_type": "markdown",
   "id": "ce640a85",
   "metadata": {},
   "source": [
    "# Iris Random Forest Classification\n",
    "\n",
    "In this notebook, we’ll train a Random Forest on the Iris dataset and then evaluate it using:\n",
    "\n",
    "1. **Import libraries**  \n",
    "2. **Load and inspect the Iris data**\n",
    "3. **Split into train/test**  \n",
    "4. **Scale features & train a Random Forest**  \n",
    "5. **Evaluate accuracy, confusion matrix, and full report**\n",
    "6. **Plot feature importances**"
   ]
  },
  {
   "cell_type": "markdown",
   "id": "30152b08",
   "metadata": {},
   "source": [
    "## 1. Import Libraries"
   ]
  },
  {
   "cell_type": "code",
   "execution_count": 11,
   "id": "00336094",
   "metadata": {},
   "outputs": [],
   "source": [
    "import os\n",
    "import sys\n",
    "\n",
    "import numpy    as np\n",
    "import pandas   as pd\n",
    "import matplotlib.pyplot as plt\n",
    "\n",
    "import sklearn\n",
    "from sklearn.model_selection import train_test_split\n",
    "from sklearn.ensemble       import RandomForestClassifier\n",
    "from sklearn.preprocessing  import StandardScaler\n",
    "from sklearn.datasets     import load_iris\n",
    "from sklearn.metrics       import accuracy_score, confusion_matrix, classification_report\n",
    "\n",
    "\n",
    "import torch\n",
    "import torch.nn      as nn\n",
    "import torch.optim  as optim"
   ]
  },
  {
   "cell_type": "markdown",
   "id": "51eef5de",
   "metadata": {},
   "source": [
    "\n",
    "> **What’s happening?**  \n",
    "> - **NumPy** & **pandas** for numerical arrays and DataFrame management  \n",
    "> - **Matplotlib** for plotting charts  \n",
    "> - **scikit‑learn** modules for data splitting, scaling, Random Forest, and evaluation metrics  \n",
    "> - **PyTorch** imports reserved for later deep‑learning work (not used in this demo)  \n",
    ">\n",
    "> This cell simply loads all of the external tools we’ll need in one place."
   ]
  },
  {
   "cell_type": "markdown",
   "id": "e828e347",
   "metadata": {},
   "source": [
    "## 2. Load and inspect the Iris data"
   ]
  },
  {
   "cell_type": "code",
   "execution_count": 10,
   "id": "3d2ce98b",
   "metadata": {},
   "outputs": [
    {
     "name": "stdout",
     "output_type": "stream",
     "text": [
      "First five rows of X:\n"
     ]
    },
    {
     "data": {
      "text/html": [
       "<div>\n",
       "<style scoped>\n",
       "    .dataframe tbody tr th:only-of-type {\n",
       "        vertical-align: middle;\n",
       "    }\n",
       "\n",
       "    .dataframe tbody tr th {\n",
       "        vertical-align: top;\n",
       "    }\n",
       "\n",
       "    .dataframe thead th {\n",
       "        text-align: right;\n",
       "    }\n",
       "</style>\n",
       "<table border=\"1\" class=\"dataframe\">\n",
       "  <thead>\n",
       "    <tr style=\"text-align: right;\">\n",
       "      <th></th>\n",
       "      <th>sepal length (cm)</th>\n",
       "      <th>sepal width (cm)</th>\n",
       "      <th>petal length (cm)</th>\n",
       "      <th>petal width (cm)</th>\n",
       "    </tr>\n",
       "  </thead>\n",
       "  <tbody>\n",
       "    <tr>\n",
       "      <th>0</th>\n",
       "      <td>5.1</td>\n",
       "      <td>3.5</td>\n",
       "      <td>1.4</td>\n",
       "      <td>0.2</td>\n",
       "    </tr>\n",
       "    <tr>\n",
       "      <th>1</th>\n",
       "      <td>4.9</td>\n",
       "      <td>3.0</td>\n",
       "      <td>1.4</td>\n",
       "      <td>0.2</td>\n",
       "    </tr>\n",
       "    <tr>\n",
       "      <th>2</th>\n",
       "      <td>4.7</td>\n",
       "      <td>3.2</td>\n",
       "      <td>1.3</td>\n",
       "      <td>0.2</td>\n",
       "    </tr>\n",
       "    <tr>\n",
       "      <th>3</th>\n",
       "      <td>4.6</td>\n",
       "      <td>3.1</td>\n",
       "      <td>1.5</td>\n",
       "      <td>0.2</td>\n",
       "    </tr>\n",
       "    <tr>\n",
       "      <th>4</th>\n",
       "      <td>5.0</td>\n",
       "      <td>3.6</td>\n",
       "      <td>1.4</td>\n",
       "      <td>0.2</td>\n",
       "    </tr>\n",
       "  </tbody>\n",
       "</table>\n",
       "</div>"
      ],
      "text/plain": [
       "   sepal length (cm)  sepal width (cm)  petal length (cm)  petal width (cm)\n",
       "0                5.1               3.5                1.4               0.2\n",
       "1                4.9               3.0                1.4               0.2\n",
       "2                4.7               3.2                1.3               0.2\n",
       "3                4.6               3.1                1.5               0.2\n",
       "4                5.0               3.6                1.4               0.2"
      ]
     },
     "metadata": {},
     "output_type": "display_data"
    },
    {
     "name": "stdout",
     "output_type": "stream",
     "text": [
      "\n",
      "Target classes: ['setosa' 'versicolor' 'virginica']\n"
     ]
    }
   ],
   "source": [
    "iris = load_iris(as_frame=True)\n",
    "X    = iris.frame.drop(columns=\"target\")\n",
    "y    = iris.frame[\"target\"]\n",
    "\n",
    "print(\"First five rows of X:\")\n",
    "display(X.head())\n",
    "\n",
    "print(\"\\nTarget classes:\", iris.target_names)"
   ]
  },
  {
   "cell_type": "markdown",
   "id": "41b67d8f",
   "metadata": {},
   "source": [
    ">**Data inspection:**  \n",
    "> - `load_iris(as_frame=True)` gives us a pandas DataFrame of 150 samples × 4 features + a `target` column  \n",
    "> - We drop `target` into **X** (our feature matrix) and keep it in **y** (labels)  \n",
    "> - `X.head()` shows the first five flowers’ sepal/petal measurements  \n",
    "> - `iris.target_names` reveals the three species we’ll predict: setosa, versicolor, virginica  \n",
    ">\n",
    "> Checking the raw data helps catch issues early (missing values, odd scales, etc.)."
   ]
  },
  {
   "cell_type": "markdown",
   "id": "f264f66f",
   "metadata": {},
   "source": [
    "## 3. Split into train/test"
   ]
  },
  {
   "cell_type": "code",
   "execution_count": 9,
   "id": "793458d9",
   "metadata": {},
   "outputs": [
    {
     "name": "stdout",
     "output_type": "stream",
     "text": [
      "Training set: (120, 4) (120,)\n",
      "Test set:     (30, 4) (30,)\n"
     ]
    }
   ],
   "source": [
    "X_train, X_test, y_train, y_test = train_test_split(\n",
    "    X, y, test_size=0.2, random_state=42\n",
    ")\n",
    "\n",
    "print(\"Training set:\", X_train.shape, y_train.shape)\n",
    "print(\"Test set:    \", X_test.shape,  y_test.shape)"
   ]
  },
  {
   "cell_type": "markdown",
   "id": "cb1445d9",
   "metadata": {},
   "source": [
    " >**Train/Test Split:**  \n",
    "> - We hold out **20%** of samples for testing to gauge generalization  \n",
    "> - `random_state=42` ensures that if you re‑run this cell, you get the same split  \n",
    "> - Shapes `(120, 4)` and `(30, 4)` confirm 120 training and 30 test samples  \n",
    ">\n",
    "> Always split **before** scaling or training to avoid “data leakage.”"
   ]
  },
  {
   "cell_type": "markdown",
   "id": "bb58f00c",
   "metadata": {},
   "source": [
    "## 4. Scale features & train a Random Forest"
   ]
  },
  {
   "cell_type": "code",
   "execution_count": 8,
   "id": "8ee17c04",
   "metadata": {},
   "outputs": [
    {
     "name": "stdout",
     "output_type": "stream",
     "text": [
      "Random Forest has been trained.\n"
     ]
    }
   ],
   "source": [
    "scaler = StandardScaler()\n",
    "# Fit on train only\n",
    "X_train_scaled = scaler.fit_transform(X_train)\n",
    "# Apply same transform to test\n",
    "X_test_scaled  = scaler.transform(X_test)\n",
    "\n",
    "clf = RandomForestClassifier(\n",
    "    n_estimators=100,      # number of trees\n",
    "    max_depth=4,           # maximum depth of each tree\n",
    "    random_state=42\n",
    ")\n",
    "clf.fit(X_train_scaled, y_train)\n",
    "\n",
    "print(\"Random Forest has been trained.\")"
   ]
  },
  {
   "cell_type": "markdown",
   "id": "6b66d3d6",
   "metadata": {},
   "source": [
    " >**Feature Scaling:**  \n",
    "> - `StandardScaler` subtracts the training‑set mean and divides by the training‑set standard deviation  \n",
    "> - We **fit** the scaler on `X_train` only, then **transform** both train/test so no peeking at test stats  \n",
    ">\n",
    "> **Model Training:**  \n",
    "> - `RandomForestClassifier(n_estimators=100, max_depth=4)` builds 100 trees, each limited to depth 4  \n",
    "> - Shallow trees help prevent overfitting on a small dataset  \n",
    "> - `clf.fit(...)` learns how feature patterns map to species labels\n"
   ]
  },
  {
   "cell_type": "markdown",
   "id": "18d30c85",
   "metadata": {},
   "source": [
    "## 5. Evaluate accuracy, confusion matrix, and full report"
   ]
  },
  {
   "cell_type": "code",
   "execution_count": 7,
   "id": "38507d41",
   "metadata": {},
   "outputs": [
    {
     "name": "stdout",
     "output_type": "stream",
     "text": [
      "Accuracy: 1.00\n",
      "\n"
     ]
    },
    {
     "data": {
      "image/png": "[encoded data removed]",
      "text/plain": [
       "<Figure size 400x400 with 1 Axes>"
      ]
     },
     "metadata": {},
     "output_type": "display_data"
    },
    {
     "name": "stdout",
     "output_type": "stream",
     "text": [
      "              precision    recall  f1-score   support\n",
      "\n",
      "      setosa       1.00      1.00      1.00        10\n",
      "  versicolor       1.00      1.00      1.00         9\n",
      "   virginica       1.00      1.00      1.00        11\n",
      "\n",
      "    accuracy                           1.00        30\n",
      "   macro avg       1.00      1.00      1.00        30\n",
      "weighted avg       1.00      1.00      1.00        30\n",
      "\n"
     ]
    }
   ],
   "source": [
    "# Accuracy\n",
    "y_pred = clf.predict(X_test_scaled)\n",
    "print(f\"Accuracy: {accuracy_score(y_test, y_pred):.2f}\\n\")\n",
    "\n",
    "# Confusion matrix\n",
    "cm = confusion_matrix(y_test, y_pred)\n",
    "fig, ax = plt.subplots(figsize=(4,4))\n",
    "im = ax.imshow(cm, cmap=\"Blues\")\n",
    "ax.set(\n",
    "    xticks=[0,1,2], yticks=[0,1,2],\n",
    "    xticklabels=iris.target_names,\n",
    "    yticklabels=iris.target_names,\n",
    "    xlabel=\"Predicted\", ylabel=\"True\",\n",
    "    title=\"Confusion Matrix\"\n",
    ")\n",
    "for i in range(3):\n",
    "    for j in range(3):\n",
    "        ax.text(j, i, cm[i,j],\n",
    "                ha=\"center\", va=\"center\",\n",
    "                color=\"white\" if cm[i,j]>cm.max()/2 else \"black\")\n",
    "plt.show()\n",
    "\n",
    "# Classification report\n",
    "print(classification_report(y_test, y_pred, target_names=iris.target_names))"
   ]
  },
  {
   "cell_type": "markdown",
   "id": "43de8590",
   "metadata": {},
   "source": [
    "> **Accuracy:**  \n",
    "> - Proportion of correct predictions (here, 1.00 = 100% correct on our 30‐sample test set)  \n",
    ">\n",
    "> **Confusion Matrix:**  \n",
    "> - Rows = **True** labels, Columns = **Predicted** labels  \n",
    "> - Diagonal entries show correct counts; off‑diagonals show misclassifications (all zero here)  \n",
    ">\n",
    "> **Classification Report:**  \n",
    "> - **Precision** = TP / (TP + FP): of samples predicted “setosa,” how many actually were setosa  \n",
    "> - **Recall** = TP / (TP + FN): of actual “versicolor,” how many did we correctly label  \n",
    "> - **F1‑score** = harmonic mean of precision & recall  \n",
    "> - **Support** = number of true samples per class  \n",
    "> - **Macro avg** treats each class equally; **weighted avg** accounts for class frequencies  \n",
    ">\n",
    "> These metrics give a fuller picture than accuracy alone."
   ]
  },
  {
   "cell_type": "markdown",
   "id": "c511c862",
   "metadata": {},
   "source": [
    "## 6. Plot feature importances"
   ]
  },
  {
   "cell_type": "code",
   "execution_count": 6,
   "id": "49854637",
   "metadata": {},
   "outputs": [
    {
     "name": "stdout",
     "output_type": "stream",
     "text": [
      "Feature importances:\n",
      " petal length (cm)    0.450058\n",
      "petal width (cm)     0.423620\n",
      "sepal length (cm)    0.105099\n",
      "sepal width (cm)     0.021224\n",
      "dtype: float64\n"
     ]
    },
    {
     "data": {
      "image/png": "[encoded data removed]",
      "text/plain": [
       "<Figure size 640x480 with 1 Axes>"
      ]
     },
     "metadata": {},
     "output_type": "display_data"
    }
   ],
   "source": [
    "importances = clf.feature_importances_\n",
    "features = X.columns\n",
    "\n",
    "# Pair & sort\n",
    "feat_imp = pd.Series(importances, index=features).sort_values(ascending=False)\n",
    "print(\"Feature importances:\\n\", feat_imp)\n",
    "\n",
    "# Quick bar chart\n",
    "feat_imp.plot.bar()\n",
    "plt.title(\"Random Forest Feature Importances\")\n",
    "plt.show()"
   ]
  },
  {
   "cell_type": "markdown",
   "id": "7770bc3d",
   "metadata": {},
   "source": [
    "> **Feature Importances:**  \n",
    "> - The Random Forest tracks how much each feature reduces impurity (Gini) across all trees  \n",
    "> - Higher importance means that feature more often appears in high‐impact splits  \n",
    "> \n",
    "> **Interpretation:**  \n",
    "> 1. **Petal length** (~0.45) and **petal width** (~0.42) are by far the strongest predictors  \n",
    "> 2. **Sepal length** (~0.10) and **sepal width** (~0.02) contribute much less  \n",
    ">\n",
    "> The bar chart makes it easy to see which measurements the model relied on most."
   ]
  }
 ],
 "metadata": {
  "kernelspec": {
   "display_name": "mlenv",
   "language": "python",
   "name": "python3"
  },
  "language_info": {
   "codemirror_mode": {
    "name": "ipython",
    "version": 3
   },
   "file_extension": ".py",
   "mimetype": "text/x-python",
   "name": "python",
   "nbconvert_exporter": "python",
   "pygments_lexer": "ipython3",
   "version": "3.11.13"
  }
 },
 "nbformat": 4,
 "nbformat_minor": 5
}
