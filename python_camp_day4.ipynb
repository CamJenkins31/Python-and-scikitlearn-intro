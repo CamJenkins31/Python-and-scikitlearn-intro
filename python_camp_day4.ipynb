{
 "cells": [
  {
   "cell_type": "markdown",
   "id": "3fdecce8",
   "metadata": {},
   "source": [
    "# Day 4: Intro to AI & Decision Trees + Evaluation Preview\n",
    "\n",
    "**Objectives:**\n",
    "1. Understand what AI means and see a simple example  \n",
    "2. Use dictionaries as counters for “learning” from data  \n",
    "3. Build a basic statistical predictor (`predict_move`)  \n",
    "4. Get introduced to scikit‑learn’s decision trees  \n",
    "5. Preview model evaluation: accuracy & confusion matrix  \n",
    "\n",
    "**Note:**\n",
    "- Full cross‑validation, metrics, and hyperparameter tuning come on **Day 6**  \n",
    "- Planning your SDG AI game moves to the end of **Day 7**\n"
   ]
  },
  {
   "cell_type": "markdown",
   "id": "abce5779",
   "metadata": {},
   "source": [
    "## 1. What is AI?\n",
    "\n",
    "> **AI (Artificial Intelligence)** is any program that makes decisions or predictions—often by learning patterns—from data rather than just following fixed instructions.  \n",
    ">\n",
    "> **Simple example:** a rule‑based “AI” that predicts whether a number is **high** or **low** based on the average of past numbers.\n",
    "\n",
    "### 📊 Rule-based predictor example"
   ]
  },
  {
   "cell_type": "code",
   "execution_count": null,
   "id": "da2c021a",
   "metadata": {},
   "outputs": [],
   "source": [
    "history = [2, 5, 7, 1, 4]            # past data\n",
    "threshold = sum(history) / len(history)\n",
    "print(f\"Threshold (average) = {threshold:.2f}\")\n",
    "\n",
    "def predict_high_low(x, thresh):\n",
    "    return \"High\" if x >= thresh else \"Low\"\n",
    "\n",
    "# Test it\n",
    "for test in [3, 6]:\n",
    "    print(test, \"→\", predict_high_low(test, threshold))"
   ]
  },
  {
   "cell_type": "markdown",
   "id": "85307390",
   "metadata": {},
   "source": [
    "## 2. Data Structures for AI: Dictionaries as Counters\n",
    "\n",
    "We often keep track of how many times we’ve seen each action.  \n",
    "A **dictionary** maps items → counts, e.g.:\n",
    "\n",
    "```python\n",
    "hist = {'rock': 2, 'paper': 3, 'scissors': 1}\n",
    "```\n",
    "\n",
    "### Fill‑in‑the‑blank puzzle example"
   ]
  },
  {
   "cell_type": "code",
   "execution_count": null,
   "id": "53aa2cd0",
   "metadata": {},
   "outputs": [],
   "source": [
    "hist = {'rock': 0, 'paper': 0, 'scissors': 0}\n",
    "move = input(\"Your move (rock/paper/scissors): \")\n",
    "\n",
    "# Fill in the blanks:\n",
    "# hist[____] = hist.get(____, 0) + 1\n",
    "\n",
    "print(\"Updated history:\", hist)"
   ]
  },
  {
   "cell_type": "markdown",
   "id": "a3069ab0",
   "metadata": {},
   "source": [
    "## 3. Statistical Prediction: `predict_move(hist)`\n",
    "\n",
    "We can “predict” the user’s next move by choosing whichever they’ve done most so far:\n",
    "\n",
    "```python\n",
    "def predict_move(hist):\n",
    "    # return the key with the highest count\n",
    "    return max(hist, key=hist.get)\n",
    "```\n",
    "Live‑code relay:\n",
    "\n",
    "1. Volunteers update hist with a sequence of moves.\n",
    "\n",
    "2. Trace through predict_move to see which move it chooses.\n"
   ]
  },
  {
   "cell_type": "code",
   "execution_count": null,
   "id": "8319acd7",
   "metadata": {},
   "outputs": [],
   "source": [
    "def predict_move(hist):\n",
    "    # YOUR CODE HERE\n",
    "    pass\n",
    "\n",
    "# Example usage\n",
    "hist = {'rock': 2, 'paper': 5, 'scissors': 3}\n",
    "print(\"We predict:\", predict_move(hist))"
   ]
  },
  {
   "cell_type": "markdown",
   "id": "89b3408d",
   "metadata": {},
   "source": [
    "### Example Solution"
   ]
  },
  {
   "cell_type": "code",
   "execution_count": null,
   "id": "16c2029e",
   "metadata": {},
   "outputs": [],
   "source": [
    "def predict_move(hist):\n",
    "    \"\"\"\n",
    "    Given a history dict mapping moves to counts,\n",
    "    return the move with the highest count.\n",
    "    \"\"\"\n",
    "    return max(hist, key=hist.get)\n",
    "\n",
    "# Example usage\n",
    "hist = {'rock': 2, 'paper': 5, 'scissors': 3}\n",
    "print(\"We predict:\", predict_move(hist))  # → \"paper\"\n"
   ]
  },
  {
   "cell_type": "markdown",
   "id": "73b7a428",
   "metadata": {},
   "source": [
    "## 4. Intro to scikit‑learn & Decision Trees\n",
    "\n",
    "- **scikit‑learn**: a Python library for “teaching” models from examples  \n",
    "- **Decision Tree**: like a “choose-your-own-adventure” tree that splits on feature tests\n",
    "\n",
    "### Fruit example:\n",
    "```text\n",
    "root:\n",
    "  feature: \"Colour == red?\"\n",
    "  yes:\n",
    "    leaf: Strawberry\n",
    "  no:\n",
    "    feature: \"Radius < 2cm?\"\n",
    "    yes:\n",
    "      leaf: Blueberry\n",
    "    no:\n",
    "      leaf: Plum"
   ]
  },
  {
   "cell_type": "code",
   "execution_count": null,
   "id": "edf59cf2",
   "metadata": {},
   "outputs": [],
   "source": [
    "from sklearn.tree import DecisionTreeClassifier\n",
    "\n",
    "# 0 = red, 1 = purple\n",
    "X = [[0, 1.0],   # red, small  → strawberry\n",
    "     [1, 1.0],   # purple, small → blueberry\n",
    "     [1, 3.0]]   # purple, large → plum\n",
    "y = [\"Strawberry\", \"Blueberry\", \"Plum\"]\n",
    "\n",
    "clf = DecisionTreeClassifier()\n",
    "clf.fit(X, y)\n",
    "\n",
    "# Predict for a red fruit of size 2.0 cm\n",
    "new = [[0, 2.0]]\n",
    "print(\"Prediction for [red, size=2.0]:\", clf.predict(new)[0])"
   ]
  },
  {
   "cell_type": "markdown",
   "id": "a43b5fa5",
   "metadata": {},
   "source": [
    "## 5. Preview: Accuracy & Confusion Matrix\n",
    "\n",
    "Before we dive deep (Day 6), let’s check **accuracy** and draw a **confusion matrix** on our tiny fruit dataset."
   ]
  },
  {
   "cell_type": "markdown",
   "id": "0adc770a",
   "metadata": {},
   "source": [
    "### 1. Imports & Setup\n",
    "\n",
    "We import:\n",
    "- **DecisionTreeClassifier** from scikit‑learn to build our model.  \n",
    "- **accuracy_score** & **confusion_matrix** to measure performance.  \n",
    "- **matplotlib.pyplot** and **numpy** for plotting.\n"
   ]
  },
  {
   "cell_type": "code",
   "execution_count": null,
   "id": "78583a8e",
   "metadata": {},
   "outputs": [],
   "source": [
    "from sklearn.tree         import DecisionTreeClassifier\n",
    "from sklearn.metrics      import accuracy_score, confusion_matrix\n",
    "import matplotlib.pyplot  as plt\n",
    "import numpy              as np"
   ]
  },
  {
   "cell_type": "markdown",
   "id": "244241b9",
   "metadata": {},
   "source": [
    "### 2. Train a Tiny Decision Tree\n",
    "\n",
    "- Define a tiny dataset **X** (features) and **y** (labels).  \n",
    "- Instantiate a tree with `max_depth=2` to keep it simple.  \n",
    "- Call `.fit(X, y)` to train the model."
   ]
  },
  {
   "cell_type": "code",
   "execution_count": null,
   "id": "22fb5c3c",
   "metadata": {},
   "outputs": [],
   "source": [
    "# Simple training data: [color, size(cm)]\n",
    "X = [[0, 1.0],   # red, small → Strawberry\n",
    "     [1, 1.0],   # purple, small → Blueberry\n",
    "     [1, 3.0]]   # purple, large → Plum\n",
    "y = [\"Strawberry\", \"Blueberry\", \"Plum\"]\n",
    "\n",
    "# Train the classifier\n",
    "clf = DecisionTreeClassifier(max_depth=2).fit(X, y)"
   ]
  },
  {
   "cell_type": "markdown",
   "id": "138880fe",
   "metadata": {},
   "source": [
    "### 3. Create & Predict on a Test Set\n",
    "\n",
    "- We define **X_test** with new examples.  \n",
    "- **y_true** holds the ground‑truth labels.  \n",
    "- `.predict(X_test)` produces **y_pred**."
   ]
  },
  {
   "cell_type": "code",
   "execution_count": null,
   "id": "764d4ace",
   "metadata": {},
   "outputs": [],
   "source": [
    "\n",
    "X_test = [[0, 0.8],  # red, slightly smaller\n",
    "          [1, 2.5],  # purple, medium\n",
    "          [1, 0.9]]  # purple, small\n",
    "y_true = [\"Strawberry\", \"Plum\", \"Blueberry\"]\n",
    "\n",
    "# Model predictions\n",
    "y_pred = clf.predict(X_test)"
   ]
  },
  {
   "cell_type": "markdown",
   "id": "3e8b66d2",
   "metadata": {},
   "source": [
    "### 4. Calculate Accuracy\n",
    "\n",
    "Use `accuracy_score(y_true, y_pred)` to compute \n",
    "the fraction of correct predictions."
   ]
  },
  {
   "cell_type": "code",
   "execution_count": null,
   "id": "4340ae5c",
   "metadata": {},
   "outputs": [],
   "source": [
    "\n",
    "print(\"Accuracy:\", accuracy_score(y_true, y_pred))"
   ]
  },
  {
   "cell_type": "markdown",
   "id": "56d53727",
   "metadata": {},
   "source": [
    "### 5. Plot the Confusion Matrix\n",
    "\n",
    "- **confusion_matrix** returns a 2D array of counts  \n",
    "- We display it with `imshow(...)`, add labels, and annotate each cell."
   ]
  },
  {
   "cell_type": "code",
   "execution_count": null,
   "id": "65c1c056",
   "metadata": {},
   "outputs": [],
   "source": [
    "# Compute matrix with consistent class order\n",
    "cm = confusion_matrix(y_true, y_pred, labels=clf.classes_)\n",
    "\n",
    "# Plot setup\n",
    "fig, ax = plt.subplots(figsize=(4,4))\n",
    "im = ax.imshow(cm, cmap=\"Blues\")\n",
    "\n",
    "# Label axes\n",
    "ax.set(\n",
    "    xticks=np.arange(len(clf.classes_)),\n",
    "    yticks=np.arange(len(clf.classes_)),\n",
    "    xticklabels=clf.classes_,\n",
    "    yticklabels=clf.classes_,\n",
    "    xlabel=\"Predicted\",\n",
    "    ylabel=\"True\",\n",
    "    title=\"Confusion Matrix\"\n",
    ")\n",
    "\n",
    "# Annotate counts\n",
    "for i in range(cm.shape[0]):\n",
    "    for j in range(cm.shape[1]):\n",
    "        ax.text(j, i, cm[i, j],\n",
    "                ha=\"center\", va=\"center\",\n",
    "                color=\"white\" if cm[i, j] > cm.max()/2 else \"black\")\n",
    "\n",
    "plt.tight_layout()\n",
    "plt.show()"
   ]
  }
 ],
 "metadata": {
  "kernelspec": {
   "display_name": "mlenv",
   "language": "python",
   "name": "python3"
  },
  "language_info": {
   "codemirror_mode": {
    "name": "ipython",
    "version": 3
   },
   "file_extension": ".py",
   "mimetype": "text/x-python",
   "name": "python",
   "nbconvert_exporter": "python",
   "pygments_lexer": "ipython3",
   "version": "3.11.13"
  }
 },
 "nbformat": 4,
 "nbformat_minor": 5
}
