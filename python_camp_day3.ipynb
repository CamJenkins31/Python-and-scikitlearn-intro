{
 "cells": [
  {
   "cell_type": "markdown",
   "id": "d6e56cf7",
   "metadata": {},
   "source": [
    "# Day 3: Functions, `string` Module & Password Generator\n",
    "\n",
    "**Objectives:**\n",
    "1. Recap yesterday’s Number Guessing Game  \n",
    "2. Learn how to **define** and **call** functions  \n",
    "3. Explore Python’s built‑in **string** utilities  \n",
    "4. Build a **Password Generator** with requirements"
   ]
  },
  {
   "cell_type": "markdown",
   "id": "7a7b8ef2",
   "metadata": {},
   "source": [
    "## 1. Recap of Day 2\n",
    "\n",
    "- We worked with **lists**, **loops**, **conditionals**, and the **random** module  \n",
    "- Built a Number Guessing Game with a 5‑try limit  \n",
    "- Today we’ll encapsulate logic in functions and dive into the `string` module"
   ]
  },
  {
   "cell_type": "markdown",
   "id": "88e932a6",
   "metadata": {},
   "source": [
    "## 2. Functions\n",
    "\n",
    "A **function** wraps reusable logic:\n",
    "\n",
    "```python\n",
    "def function_name(parameters):\n",
    "    # do something\n",
    "    return result\n",
    "```\n",
    "* Parameters are local names inside the function\n",
    "\n",
    "* Arguments are the actual values you pass in\n",
    "\n",
    "* return sends a value back to the caller\n",
    "### Example of functions"
   ]
  },
  {
   "cell_type": "code",
   "execution_count": null,
   "id": "affd8179",
   "metadata": {},
   "outputs": [],
   "source": [
    "# Example: simple add function\n",
    "def add(a, b):\n",
    "    \"\"\"Return the sum of a and b.\"\"\"\n",
    "    return a + b\n",
    "\n",
    "# Call it\n",
    "result = add(3, 5)\n",
    "print(\"3 + 5 =\", result)"
   ]
  },
  {
   "cell_type": "markdown",
   "id": "466ae2f4",
   "metadata": {},
   "source": [
    "### 🏆 Mini‑Challenge\n",
    "\n",
    "1. Write a function `multiply(x, y)` that returns `x * y`.  \n",
    "2. Call it on two inputs from the user and print the product.\n",
    "\n",
    "### Example Solution"
   ]
  },
  {
   "cell_type": "code",
   "execution_count": null,
   "id": "e7ccbe2f",
   "metadata": {},
   "outputs": [],
   "source": [
    "def multiply(x, y):\n",
    "    return x * y\n",
    "\n",
    "# Prompt & print\n",
    "x = float(input(\"Enter first number to multiply: \"))\n",
    "y = float(input(\"Enter second number to multiply: \"))\n",
    "print(\"Product:\", multiply(x, y))"
   ]
  },
  {
   "cell_type": "markdown",
   "id": "13cd69cb",
   "metadata": {},
   "source": [
    "## 3. Exploring the `string` Module\n",
    "\n",
    "The `string` module provides handy constants and functions:\n",
    "\n",
    "- `string.ascii_lowercase` → `\"abcdefghijklmnopqrstuvwxyz\"`  \n",
    "- `string.ascii_uppercase` → `\"ABCDEFGHIJKLMNOPQRSTUVWXYZ\"`  \n",
    "- `string.digits`          → `\"0123456789\"`  \n",
    "- `string.punctuation`     → `!\"#$%&'()*+,-./:;<=>?@[\\]^_`{|}~`\n",
    "\n",
    "You can also check its docs with `help(string)` or online.\n",
    "\n",
    "### Example"
   ]
  },
  {
   "cell_type": "code",
   "execution_count": null,
   "id": "ba3cc68f",
   "metadata": {},
   "outputs": [],
   "source": [
    "import string\n",
    "\n",
    "print(\"Lowercase:\", string.ascii_lowercase)\n",
    "print(\"Uppercase:\", string.ascii_uppercase)\n",
    "print(\"Digits:   \", string.digits)\n",
    "print(\"Punctu’n:\", string.punctuation)"
   ]
  },
  {
   "cell_type": "markdown",
   "id": "d9136e16",
   "metadata": {},
   "source": [
    "### 🏆 Mini‑Challenge\n",
    "\n",
    "- Use `string` to print each of the four categories above.  \n",
    "- Then ask: **“How many punctuation characters are there?”**\n",
    "### Example Solution"
   ]
  },
  {
   "cell_type": "code",
   "execution_count": null,
   "id": "b7b48675",
   "metadata": {},
   "outputs": [],
   "source": [
    "import string\n",
    "\n",
    "for name, chars in [\n",
    "    (\"Lowercase\", string.ascii_lowercase),\n",
    "    (\"Uppercase\", string.ascii_uppercase),\n",
    "    (\"Digits\",    string.digits),\n",
    "    (\"Punctuation\", string.punctuation),\n",
    "]:\n",
    "    print(f\"{name} ({len(chars)}): {chars}\")"
   ]
  },
  {
   "cell_type": "markdown",
   "id": "fd2f5b44",
   "metadata": {},
   "source": [
    "## 4. Activity: Password Generator\n",
    "\n",
    "**Goal:** Generate a random password that includes at least:\n",
    "- 1 lowercase letter  \n",
    "- 1 uppercase letter  \n",
    "- 1 digit  \n",
    "- 1 punctuation symbol  \n",
    "\n",
    "**Pseudocode:**\n",
    "1. import random, string\n",
    "\n",
    "2. define generate_password(length):\n",
    "- pick one random char from each required category\n",
    "- pick (length-4) random chars from combined pool\n",
    "- shuffle and join into a string\n",
    "- return password\n",
    "\n",
    "3. ask user for desired length (≥ 8)\n",
    "\n",
    "4. call generate_password, print result\n",
    "\n",
    "5. if any category missing (edge cases), prompt again\n",
    "\n",
    "### Example Solution"
   ]
  },
  {
   "cell_type": "code",
   "execution_count": null,
   "id": "253d2c69",
   "metadata": {},
   "outputs": [],
   "source": [
    "import random\n",
    "import string\n",
    "\n",
    "def generate_password(length=8):\n",
    "    \"\"\"Generate a password meeting all four requirements.\"\"\"\n",
    "    # 1 char from each category\n",
    "    pw_chars = [\n",
    "        random.choice(string.ascii_lowercase),\n",
    "        random.choice(string.ascii_uppercase),\n",
    "        random.choice(string.digits),\n",
    "        random.choice(string.punctuation),\n",
    "    ]\n",
    "    # remaining chars from full pool\n",
    "    all_chars = string.ascii_letters + string.digits + string.punctuation\n",
    "    pw_chars += random.choices(all_chars, k=length - 4)\n",
    "    # shuffle to avoid fixed positions\n",
    "    random.shuffle(pw_chars)\n",
    "    return \"\".join(pw_chars)\n",
    "\n",
    "# Prompt user\n",
    "length = int(input(\"Password length (min 8): \"))\n",
    "if length < 8:\n",
    "    print(\"Please choose at least 8 characters.\")\n",
    "else:\n",
    "    pwd = generate_password(length)\n",
    "    print(\"Your new password:\", pwd)"
   ]
  },
  {
   "cell_type": "markdown",
   "id": "674a9c50",
   "metadata": {},
   "source": [
    "### ✨ Extensions\n",
    "\n",
    "- After printing, **check** that each category appears; if not, regenerate.  \n",
    "- Let the user choose to **include** or **exclude** certain symbol sets.  \n",
    "- Package it all into a **`main()`** function and guard with:\n",
    "  ```python\n",
    "  if __name__ == \"__main__\":\n",
    "      main()\n",
    "  ```\n",
    "\n",
    "### What does `if __name__ == \"__main__\":` do?\n",
    "\n",
    "- Every Python file has a built‑in variable `__name__`.  \n",
    "- When you **run** a file directly (e.g. `python script.py`), `__name__` is set to `\"__main__\"`.  \n",
    "- When you **import** that file from another script, `__name__` becomes the module’s name (e.g. `\"password_generator\"`).  \n",
    "- The guard  \n",
    "  ```python\n",
    "  if __name__ == \"__main__\":\n",
    "      main()\n",
    "  ```\n",
    "  ensures that `main()` only executes when the file is run directly.\n",
    "  If you import the file elsewhere, it won’t automatically run your script or prompt the user."
   ]
  }
 ],
 "metadata": {
  "language_info": {
   "name": "python"
  }
 },
 "nbformat": 4,
 "nbformat_minor": 5
}
