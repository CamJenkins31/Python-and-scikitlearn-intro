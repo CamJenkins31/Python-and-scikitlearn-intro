{
 "cells": [
  {
   "cell_type": "markdown",
   "id": "302047be",
   "metadata": {},
   "source": [
    "# Day 1: Python Foundations\n",
    "\n",
    "**Objectives:**\n",
    "1. See how Python executes instructions  \n",
    "2. Learn how to run code in your IDE/notebook  \n",
    "3. Practice `print()` vs `input()`"
   ]
  },
  {
   "cell_type": "markdown",
   "id": "d34c39e2",
   "metadata": {},
   "source": [
    "### 🧀 Cheese‑Whiz Example\n",
    "\n",
    "Imagine we want to tell the computer step‑by‑step:\n",
    "\n",
    "1. Get the cheese  \n",
    "2. Squirt it onto the bread  \n",
    "3. Serve  \n",
    "\n",
    "In Python, each line is an instruction."
   ]
  },
  {
   "cell_type": "code",
   "execution_count": null,
   "id": "c09f3da0",
   "metadata": {},
   "outputs": [],
   "source": [
    "print(\"1) Grab the cheese\")\n",
    "print(\"2) Squirt onto the bread\")\n",
    "print(\"3) Eat and enjoy!\")"
   ]
  },
  {
   "cell_type": "markdown",
   "id": "5be011b8",
   "metadata": {},
   "source": [
    "## 2. `print()` vs `input()`\n",
    "\n",
    "- `print(...)` displays text to the user  \n",
    "- `input(...)` pauses execution and waits for the user to type something  "
   ]
  },
  {
   "cell_type": "code",
   "execution_count": null,
   "id": "f505eb49",
   "metadata": {},
   "outputs": [],
   "source": [
    "print(\"Hello, world!\")              # prints a message\n",
    "name = input(\"What's your name? \")  # asks user for input\n",
    "print(\"Nice to meet you,\", name)    # echoes back"
   ]
  },
  {
   "cell_type": "markdown",
   "id": "d077828e",
   "metadata": {},
   "source": [
    "## 3. Variables & Math\n",
    "\n",
    "- **Variables** store values under a name  \n",
    "- Python has **ints**, **floats**, **strings**  \n",
    "\n",
    "| literal | type   | example   |\n",
    "|:-------:|:------:|:---------:|\n",
    "| `123`   | int    | integer   |\n",
    "| `0.123` | float  | decimal   |\n",
    "| `\"123\"` | string | text      |\n",
    "\n",
    "Basic operators: `+`, `-`, `*`, `/`, `//`, `%`, `**`"
   ]
  },
  {
   "cell_type": "code",
   "execution_count": null,
   "id": "ef9e5a6c",
   "metadata": {},
   "outputs": [],
   "source": [
    "print(2 + 3,   5 * 4,   10 / 2,   9 // 2,   9 % 2,   3 ** 2)\n",
    "\n",
    "a = 7\n",
    "b = 2\n",
    "print(\"a + b =\", a + b)\n",
    "print(\"a // b =\", a // b, \" remainder\", a % b)"
   ]
  },
  {
   "cell_type": "markdown",
   "id": "1149ec31",
   "metadata": {},
   "source": [
    "### 🏆 Mini‑Challenge  \n",
    "Write code that:\n",
    "1. Asks the user for two numbers  \n",
    "2. Adds them together  \n",
    "3. Prints the result  \n",
    "\n",
    "*Hint:* use `input()`, `int(...)`, and `print()`.  "
   ]
  },
  {
   "cell_type": "markdown",
   "id": "1634a27d",
   "metadata": {},
   "source": [
    "### Example solution"
   ]
  },
  {
   "cell_type": "code",
   "execution_count": null,
   "id": "def1db92",
   "metadata": {},
   "outputs": [],
   "source": [
    "x = int(input(\"Enter first number: \"))\n",
    "y = int(input(\"Enter second number: \"))\n",
    "print(\"Sum =\", x + y)"
   ]
  },
  {
   "cell_type": "markdown",
   "id": "52326c7c",
   "metadata": {},
   "source": [
    "## 4. Working with Strings\n",
    "\n",
    "Useful methods:\n",
    "- `.upper()` / `.lower()`  \n",
    "- concatenation: `\"Hello, \" + name`  \n",
    "- slicing: `s[0:3]`, `s[-1]`  \n",
    "- reversing: `s[::-1]`"
   ]
  },
  {
   "cell_type": "code",
   "execution_count": null,
   "id": "c7a4f252",
   "metadata": {},
   "outputs": [],
   "source": [
    "s = \"Python!\"\n",
    "print(\"UPPER:\", s.upper())\n",
    "print(\"lower:\", s.lower())\n",
    "print(\"First 6 chars:\", s[:6])\n",
    "print(\"Reversed:\", s[::-1])"
   ]
  },
  {
   "cell_type": "markdown",
   "id": "714d3a21",
   "metadata": {},
   "source": [
    "### 🏅 Mini‑Challenge  \n",
    "1. Ask the user for their **favourite colour** and **favourite animal**.  \n",
    "2. Print each:\n",
    "   - in **ALL CAPS**  \n",
    "   - in **all lowercase**  \n",
    "   - **reversed**  "
   ]
  },
  {
   "cell_type": "code",
   "execution_count": null,
   "id": "42d84e5e",
   "metadata": {},
   "outputs": [],
   "source": [
    "color  = input(\"Favourite color? \")\n",
    "animal = input(\"Favourite animal? \")\n",
    "\n",
    "for text in (color, animal):\n",
    "    print(text.upper(), text.lower(), text[::-1])"
   ]
  },
  {
   "cell_type": "markdown",
   "id": "45b8ab8a",
   "metadata": {},
   "source": [
    "## 5. Activity: Mad Lib\n",
    "\n",
    "**A. Mad Lib (easy)**  \n",
    "1. Ask for a **noun**, **verb**, **adjective**  \n",
    "2. Insert into a silly sentence  \n",
    "\n",
    "**B. Vowel Counter (medium)**  \n",
    "- Count how many `a, e, i, o, u` appear in their sentence\n",
    "\n",
    "**C. Palindrome Checker (hard)**  \n",
    "- Detect if any word they entered reads the same backwards"
   ]
  },
  {
   "cell_type": "code",
   "execution_count": null,
   "id": "9fcb2ffa",
   "metadata": {},
   "outputs": [],
   "source": [
    "# A) Mad Lib\n",
    "noun      = input(\"Give me a noun: \")\n",
    "verb      = input(\"Give me a verb: \")\n",
    "adjective = input(\"Give me an adjective: \")\n",
    "\n",
    "sentence = f\"The {adjective} {noun} likes to {verb} all day long!\"\n",
    "print(\"\\n🦄 Here's your Mad Lib:\")\n",
    "print(sentence)\n",
    "\n",
    "# B) Vowel Count\n",
    "count = sum(1 for ch in sentence.lower() if ch in \"aeiou\")\n",
    "print(f\"\\nNumber of vowels in your sentence: {count}\")\n",
    "\n",
    "# C) Palindrome Checker\n",
    "words = sentence.split()\n",
    "palindromes = [w for w in words if w.lower().strip(\"!.,?\") == w.lower().strip(\"!.,?\")[::-1]]\n",
    "print(\"\\nPalindromes found:\", palindromes or \"None\")"
   ]
  }
 ],
 "metadata": {
  "kernelspec": {
   "display_name": "mlenv",
   "language": "python",
   "name": "python3"
  },
  "language_info": {
   "codemirror_mode": {
    "name": "ipython",
    "version": 3
   },
   "file_extension": ".py",
   "mimetype": "text/x-python",
   "name": "python",
   "nbconvert_exporter": "python",
   "pygments_lexer": "ipython3",
   "version": "3.11.13"
  }
 },
 "nbformat": 4,
 "nbformat_minor": 5
}
