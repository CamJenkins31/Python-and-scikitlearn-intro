{
 "cells": [
  {
   "cell_type": "markdown",
   "id": "98e67288",
   "metadata": {},
   "source": [
    "# Day 2: Lists, Loops, Conditionals & Random\n",
    "\n",
    "**Objectives:**\n",
    "1. Recap Day 1  \n",
    "2. Work with Python **lists**  \n",
    "3. Use **loops** and **if/elif/else**  \n",
    "4. Explore the **random** module  \n",
    "5. Build a **Number Guessing Game**"
   ]
  },
  {
   "cell_type": "markdown",
   "id": "de9494e7",
   "metadata": {},
   "source": [
    "## 1. Recap of Day 1\n",
    "\n",
    "- Learned how to run Python code (`print`, `input`)  \n",
    "- Played with **variables**, **math**, **strings**  \n",
    "- Completed a **Mad‑Lib** + extensions (vowel counter, palindrome checker)  \n",
    "- Today we’ll build on that foundation with data structures and control flow."
   ]
  },
  {
   "cell_type": "markdown",
   "id": "77593f13",
   "metadata": {},
   "source": [
    "## 2. Lists\n",
    "\n",
    "- A **list** holds an ordered collection:  \n",
    "  ```python\n",
    "  my_list = [item1, item2, item3]\n",
    "\n",
    "Access by index: my_list[0], last by my_list[-1]\n",
    "\n",
    "Add with .append(), check length with len()"
   ]
  },
  {
   "cell_type": "code",
   "execution_count": null,
   "id": "2ddb09f5",
   "metadata": {},
   "outputs": [],
   "source": [
    "# create a list of prime numbers\n",
    "primes = [2, 3, 5, 7, 11]\n",
    "print(\"Primes:\", primes)\n",
    "\n",
    "# access elements\n",
    "print(\"First prime:\", primes[0])\n",
    "print(\"Last prime: \", primes[-1])\n",
    "\n",
    "# append and length\n",
    "primes.append(13)\n",
    "print(\"After append:\", primes)\n",
    "print(\"Count of primes:\", len(primes))"
   ]
  },
  {
   "cell_type": "markdown",
   "id": "b4dab292",
   "metadata": {},
   "source": [
    "### 🏆 Mini‑Challenge: Favourite Snacks\n",
    "\n",
    "1. Ask the user for their **three** favourite snacks.  \n",
    "2. Store them in a list.  \n",
    "3. Print:  \n",
    "   - The full list  \n",
    "   - “Your top snack is ___” (index 0) using an f-string."
   ]
  },
  {
   "cell_type": "code",
   "execution_count": null,
   "id": "ffb155b6",
   "metadata": {},
   "outputs": [],
   "source": [
    "# Example solution\n",
    "snacks = []\n",
    "for i in range(3):\n",
    "    snack = input(f\"Enter snack #{i+1}: \")\n",
    "    snacks.append(snack)\n",
    "\n",
    "print(\"\\nYour snacks:\", snacks)\n",
    "print(f\"Your top snack is {snacks[0]}\")"
   ]
  },
  {
   "cell_type": "markdown",
   "id": "05a4759f",
   "metadata": {},
   "source": [
    "## 3. Loops & Conditionals\n",
    "\n",
    "### For‑loops\n",
    "```python\n",
    "for item in my_list:\n",
    "    # do something with item\n",
    "\n",
    "```\n",
    "### While-loops\n",
    "```python\n",
    "while condition:\n",
    "    # repeat until condition False\n",
    "```\n",
    "### Conditionals\n",
    "```python\n",
    "if x == 0:\n",
    "    …\n",
    "elif x > 0:\n",
    "    …\n",
    "else:\n",
    "    …\n",
    "```\n",
    "\n",
    "```python\n"
   ]
  },
  {
   "cell_type": "markdown",
   "id": "f039fb3e",
   "metadata": {},
   "source": [
    "### Examples of for and while loops"
   ]
  },
  {
   "cell_type": "code",
   "execution_count": null,
   "id": "4a7c8318",
   "metadata": {},
   "outputs": [],
   "source": [
    "# for‑loop example: print each snack in uppercase\n",
    "snacks = ['chips', 'granola bar', 'apple']\n",
    "for s in snacks:\n",
    "    print(s.upper())\n",
    "\n",
    "# while‑loop example: countdown from 5\n",
    "n = 5\n",
    "while n > 0:\n",
    "    print(n)\n",
    "    n -= 1\n",
    "print(\"Blast off!\")"
   ]
  },
  {
   "cell_type": "markdown",
   "id": "ca533555",
   "metadata": {},
   "source": [
    "### 🏆 Mini‑Challenge 1: Sum of Numbers\n",
    "\n",
    "- Ask the user how many numbers they want to sum (n).  \n",
    "- Let them input n numbers into a list.  \n",
    "- Use a **for‑loop** to compute and print the total."
   ]
  },
  {
   "cell_type": "markdown",
   "id": "ce8a22c0",
   "metadata": {},
   "source": [
    "### Example solution"
   ]
  },
  {
   "cell_type": "code",
   "execution_count": null,
   "id": "1781ded8",
   "metadata": {},
   "outputs": [],
   "source": [
    "count = int(input(\"How many numbers to sum? \"))\n",
    "nums  = []\n",
    "for i in range(count):\n",
    "    nums.append(float(input(f\"Number #{i+1}: \")))\n",
    "\n",
    "total = 0\n",
    "for x in nums:\n",
    "    total += x\n",
    "\n",
    "print(\"Sum =\", total)"
   ]
  },
  {
   "cell_type": "markdown",
   "id": "e730b481",
   "metadata": {},
   "source": [
    "### 🏆 Mini‑Challenge 2: Pos/Neg/Zero\n",
    "\n",
    "- Ask for a single number.  \n",
    "- Print whether it’s **positive**, **negative**, or **zero**."
   ]
  },
  {
   "cell_type": "markdown",
   "id": "6396f80d",
   "metadata": {},
   "source": [
    "### Example solution"
   ]
  },
  {
   "cell_type": "code",
   "execution_count": null,
   "id": "621af216",
   "metadata": {},
   "outputs": [],
   "source": [
    "x = float(input(\"Enter a number: \"))\n",
    "if x > 0:\n",
    "    print(\"Positive\")\n",
    "elif x < 0:\n",
    "    print(\"Negative\")\n",
    "else:\n",
    "    print(\"Zero\")"
   ]
  },
  {
   "cell_type": "markdown",
   "id": "3f80b6cc",
   "metadata": {},
   "source": [
    "## 4. Random\n",
    "\n",
    "- Python’s built‑in `random` module generates pseudo‑random numbers  \n",
    "- Always check the [documentation](https://docs.python.org/3/library/random.html) for more functions."
   ]
  },
  {
   "cell_type": "code",
   "execution_count": null,
   "id": "5fd88d63",
   "metadata": {},
   "outputs": [],
   "source": [
    "import random\n",
    "\n",
    "print(\"Random float [0.0,1.0):\", random.random())\n",
    "print(\"Random integer [1,10]:\", random.randint(1,10))\n",
    "print(\"Shuffle a list:\", \n",
    "      (lst := list(range(1,6))), \n",
    "      \"→\", random.sample(lst, k=len(lst)))"
   ]
  },
  {
   "cell_type": "markdown",
   "id": "fad44e00",
   "metadata": {},
   "source": [
    "### 🏆 Mini‑Challenge: 5 Random Numbers\n",
    "\n",
    "Generate and print **5 random integers** between **1** and **20**."
   ]
  },
  {
   "cell_type": "markdown",
   "id": "12508eb0",
   "metadata": {},
   "source": [
    "### Example solution"
   ]
  },
  {
   "cell_type": "code",
   "execution_count": null,
   "id": "b77fa2af",
   "metadata": {},
   "outputs": [],
   "source": [
    "for _ in range(5):\n",
    "    print(random.randint(1, 20))"
   ]
  },
  {
   "cell_type": "markdown",
   "id": "483df4de",
   "metadata": {},
   "source": [
    "## 5. Activity: Number Guessing Game\n",
    "\n",
    "**Build a console game** where the computer picks a random number 1–50 and the user must guess it.\n",
    "\n",
    "**Steps:**\n",
    "1. Generate target: `target = random.randint(1,50)`  \n",
    "2. Loop until correct:  \n",
    "   - Ask for a guess  \n",
    "   - Tell them “Too low” / “Too high” / “Correct!”  \n",
    "3. **Extension:**  \n",
    "   - Count guesses  \n",
    "   - Limit to 5 tries, then print **“Game Over”**  \n",
    "\n",
    "*Work in pairs, experiment, and ask for help as needed!*"
   ]
  },
  {
   "cell_type": "markdown",
   "id": "2b7d1b37",
   "metadata": {},
   "source": [
    "### Example solution"
   ]
  },
  {
   "cell_type": "code",
   "execution_count": null,
   "id": "9ae91baa",
   "metadata": {},
   "outputs": [],
   "source": [
    "target = random.randint(1, 50)\n",
    "guess  = None\n",
    "\n",
    "while guess != target:\n",
    "    guess = int(input(\"Guess the number (1-50): \"))\n",
    "    if guess < target:\n",
    "        print(\"Too low!\")\n",
    "    elif guess > target:\n",
    "        print(\"Too high!\")\n",
    "    else:\n",
    "        print(\"🎉 Correct!\")"
   ]
  },
  {
   "cell_type": "markdown",
   "id": "c8712f64",
   "metadata": {},
   "source": [
    "**Extension:** add a counter and a max‑tries limit."
   ]
  },
  {
   "cell_type": "code",
   "execution_count": null,
   "id": "f0528f6d",
   "metadata": {},
   "outputs": [],
   "source": [
    "target = random.randint(1, 50)\n",
    "tries  = 0\n",
    "max_tries = 5\n",
    "\n",
    "while tries < max_tries:\n",
    "    guess = int(input(f\"Try {tries+1}/{max_tries}. Your guess: \"))\n",
    "    tries += 1\n",
    "    if guess < target:\n",
    "        print(\"Too low!\")\n",
    "    elif guess > target:\n",
    "        print(\"Too high!\")\n",
    "    else:\n",
    "        print(f\"🎉 You got it in {tries} tries!\")\n",
    "        break\n",
    "else:\n",
    "    print(f\"❌ Game Over. The number was {target}.\")"
   ]
  }
 ],
 "metadata": {
  "kernelspec": {
   "display_name": "mlenv",
   "language": "python",
   "name": "python3"
  },
  "language_info": {
   "codemirror_mode": {
    "name": "ipython",
    "version": 3
   },
   "file_extension": ".py",
   "mimetype": "text/x-python",
   "name": "python",
   "nbconvert_exporter": "python",
   "pygments_lexer": "ipython3",
   "version": "3.11.13"
  }
 },
 "nbformat": 4,
 "nbformat_minor": 5
}
